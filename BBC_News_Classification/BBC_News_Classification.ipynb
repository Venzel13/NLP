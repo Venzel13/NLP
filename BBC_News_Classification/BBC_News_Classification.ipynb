{
 "cells": [
  {
   "cell_type": "markdown",
   "metadata": {},
   "source": [
    "# BBC News Classification"
   ]
  },
  {
   "cell_type": "markdown",
   "metadata": {},
   "source": [
    "This competition we launched by Kaggle (link: https://www.kaggle.com/c/learn-ai-bbc). The data consists of 1490 news articles labeled under one of 5 categories."
   ]
  },
  {
   "cell_type": "markdown",
   "metadata": {},
   "source": [
    "The custom RNN network were built using pre-trained `fasttext` embeddings representation (https://arxiv.org/abs/1607.04606)"
   ]
  },
  {
   "cell_type": "markdown",
   "metadata": {},
   "source": [
    "This notebook represents a high-level output and visualization. All code details were stored `.py` files in the same directory"
   ]
  },
  {
   "cell_type": "code",
   "execution_count": null,
   "metadata": {},
   "outputs": [],
   "source": [
    "import matplotlib.pyplot as plt\n",
    "from preproc import encode_label, get_classes, loader\n",
    "from utils import nets, plot_confusion_matrix\n",
    "\n",
    "%matplotlib inline"
   ]
  },
  {
   "cell_type": "code",
   "execution_count": 12,
   "metadata": {
    "colab": {
     "base_uri": "https://localhost:8080/",
     "height": 353
    },
    "colab_type": "code",
    "id": "5DRr_C6aNBbL",
    "outputId": "83f7d376-c77e-4ce4-af5f-c33765f72e2f"
   },
   "outputs": [
    {
     "name": "stdout",
     "output_type": "stream",
     "text": [
      "epoch 0 Loss: 1.50 Accuracy: 0.37\n",
      "epoch 1 Loss: 1.10 Accuracy: 0.50\n",
      "epoch 2 Loss: 0.70 Accuracy: 0.56\n",
      "epoch 3 Loss: 0.51 Accuracy: 0.72\n",
      "epoch 4 Loss: 0.40 Accuracy: 0.78\n",
      "epoch 5 Loss: 0.39 Accuracy: 0.80\n",
      "epoch 6 Loss: 0.37 Accuracy: 0.77\n",
      "epoch 7 Loss: 0.33 Accuracy: 0.85\n",
      "epoch 8 Loss: 0.26 Accuracy: 0.89\n",
      "epoch 9 Loss: 0.28 Accuracy: 0.86\n",
      "epoch 10 Loss: 0.23 Accuracy: 0.78\n",
      "epoch 11 Loss: 0.18 Accuracy: 0.86\n",
      "epoch 12 Loss: 0.13 Accuracy: 0.86\n",
      "epoch 13 Loss: 0.14 Accuracy: 0.73\n",
      "epoch 14 Loss: 0.19 Accuracy: 0.87\n",
      "epoch 15 Loss: 0.17 Accuracy: 0.81\n",
      "epoch 16 Loss: 0.16 Accuracy: 0.87\n",
      "epoch 17 Loss: 0.14 Accuracy: 0.81\n",
      "epoch 18 Loss: 0.09 Accuracy: 0.92\n",
      "epoch 19 Loss: 0.07 Accuracy: 0.79\n"
     ]
    }
   ],
   "source": [
    "nets.learn(n_epochs=20, loader)"
   ]
  },
  {
   "cell_type": "code",
   "execution_count": 0,
   "metadata": {
    "colab": {},
    "colab_type": "code",
    "id": "UCN9nXSLh4tb"
   },
   "outputs": [],
   "source": [
    "classes, _ = get_classes(\"drive/My Drive/BBC/train.csv\")\n",
    "_, encoder = encode_label(\"drive/My Drive/BBC/train.csv\")"
   ]
  },
  {
   "cell_type": "markdown",
   "metadata": {},
   "source": [
    "Let's see the confusion matrix for the best model on the validation set"
   ]
  },
  {
   "cell_type": "code",
   "execution_count": 44,
   "metadata": {
    "colab": {
     "base_uri": "https://localhost:8080/",
     "height": 490
    },
    "colab_type": "code",
    "id": "EZ5WDeaKi2AN",
    "outputId": "0e543bee-fa0d-499a-f9a2-6e131ad0219f"
   },
   "outputs": [
    {
     "data": {
      "image/png": "[encoded data removed]",
      "text/plain": [
       "<Figure size 576x576 with 1 Axes>"
      ]
     },
     "metadata": {
      "needs_background": "light",
      "tags": []
     },
     "output_type": "display_data"
    }
   ],
   "source": [
    "plot_confusion_matrix(nets.true, nets.pred, encoder, classes)"
   ]
  }
 ],
 "metadata": {
  "colab": {
   "collapsed_sections": [],
   "name": "BBC.ipynb",
   "provenance": []
  },
  "kernelspec": {
   "display_name": "Python 3",
   "language": "python",
   "name": "python3"
  },
  "language_info": {
   "codemirror_mode": {
    "name": "ipython",
    "version": 3
   },
   "file_extension": ".py",
   "mimetype": "text/x-python",
   "name": "python",
   "nbconvert_exporter": "python",
   "pygments_lexer": "ipython3",
   "version": "3.7.3"
  },
  "toc": {
   "base_numbering": 1,
   "nav_menu": {},
   "number_sections": true,
   "sideBar": true,
   "skip_h1_title": false,
   "title_cell": "Table of Contents",
   "title_sidebar": "Contents",
   "toc_cell": false,
   "toc_position": {},
   "toc_section_display": true,
   "toc_window_display": false
  }
 },
 "nbformat": 4,
 "nbformat_minor": 1
}
